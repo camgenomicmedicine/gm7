{
  "nbformat": 4,
  "nbformat_minor": 0,
  "metadata": {
    "colab": {
      "provenance": [],
      "authorship_tag": "ABX9TyNFraxhX6iR9Ku67+KxUuti",
      "include_colab_link": true
    },
    "kernelspec": {
      "name": "python3",
      "display_name": "Python 3"
    },
    "language_info": {
      "name": "python"
    }
  },
  "cells": [
    {
      "cell_type": "markdown",
      "metadata": {
        "id": "view-in-github",
        "colab_type": "text"
      },
      "source": [
        "<a href=\"https://colab.research.google.com/github/camgenomicmedicine/gm7/blob/main/GM7_assignment_helper_notebook.ipynb\" target=\"_parent\"><img src=\"https://colab.research.google.com/assets/colab-badge.svg\" alt=\"Open In Colab\"/></a>"
      ]
    },
    {
      "cell_type": "markdown",
      "source": [
        "#GM7 assignment helper notebook"
      ],
      "metadata": {
        "id": "pjoL_4Cdfb4o"
      }
    },
    {
      "cell_type": "markdown",
      "source": [
        "This is a jupyter notebook, similar to what you ran with Victor. However, we can get terminal commands to run from a notebook rather than python. Simply add a ! to the start of the line.\n",
        "\n",
        "For example; if you run the cell below, which contains `ls`, you will run the command in python. If you run the subsequent command, with `! ls` then this will run the unix terminal command ls, and you will get back the contents of the current directory."
      ],
      "metadata": {
        "id": "Y2lUs-uGe-R6"
      }
    },
    {
      "cell_type": "code",
      "source": [
        "ls"
      ],
      "metadata": {
        "id": "Ryx6jrqvfZMR"
      },
      "execution_count": null,
      "outputs": []
    },
    {
      "cell_type": "code",
      "source": [
        "! ls"
      ],
      "metadata": {
        "id": "ulwnP87XfaJZ"
      },
      "execution_count": null,
      "outputs": []
    },
    {
      "cell_type": "markdown",
      "source": [
        "We need to install all the packages we need. On your virtual machines during the practical you had this set up for you beforehand, however, now we have to do this from scratch."
      ],
      "metadata": {
        "id": "bp-7wCDSgXI4"
      }
    },
    {
      "cell_type": "code",
      "execution_count": null,
      "metadata": {
        "id": "QFnCbDimuCsP"
      },
      "outputs": [],
      "source": [
        "!apt install samtools bcftools tabix"
      ]
    },
    {
      "cell_type": "markdown",
      "source": [
        "For your report you mght like to report the version of the tool used"
      ],
      "metadata": {
        "id": "pk-t2Pg5grwL"
      }
    },
    {
      "cell_type": "code",
      "source": [
        "!samtools --version\n",
        "!bcftools --version"
      ],
      "metadata": {
        "id": "8G1hScmgupf7"
      },
      "execution_count": null,
      "outputs": []
    },
    {
      "cell_type": "markdown",
      "source": [
        "#Upload your data\n",
        "\n",
        "Please clock on the file manager to the left and upload the zip file for the assignment. This is called `GM7_assignment_data.zip`\n"
      ],
      "metadata": {
        "id": "sA_8q204hiyg"
      }
    },
    {
      "cell_type": "markdown",
      "source": [
        "To use the data we need to unzip it:"
      ],
      "metadata": {
        "id": "ekPTbeMuhuWD"
      }
    },
    {
      "cell_type": "code",
      "source": [
        "! unzip GM7_assignment_data.zip"
      ],
      "metadata": {
        "id": "zEBl3egThwdQ"
      },
      "execution_count": null,
      "outputs": []
    },
    {
      "cell_type": "markdown",
      "source": [
        "Now we have all our files available to us, we can check that we can see them"
      ],
      "metadata": {
        "id": "FACaFZMLh1xX"
      }
    },
    {
      "cell_type": "code",
      "source": [
        "! ls"
      ],
      "metadata": {
        "id": "AwiiOcJYhzpQ"
      },
      "execution_count": null,
      "outputs": []
    },
    {
      "cell_type": "markdown",
      "source": [
        "#Trio Analysis assignment\n",
        "##Introduction\n",
        "In this walkthrough we will use some commands from the practical to perform variant calling and analysis on data from whole-genome sequencing (WGS) of trios (father, mother, and child). Each group will analyze one trio, identify Mendelian inheritance patterns, de novo mutations, and assess variant quality and annotations to infer possible disease-related variants. These are example commands only, you may want to alter these to reflect your thoughts on the data."
      ],
      "metadata": {
        "id": "J3VKt7vIv03G"
      }
    },
    {
      "cell_type": "markdown",
      "source": [
        "Our data contains a subset of data covering:\n",
        "chr11:5100000-5400000"
      ],
      "metadata": {
        "id": "3RIFL1x-1Jtp"
      }
    },
    {
      "cell_type": "markdown",
      "source": [
        "#Part 1: Exploring BAM Files with samtools mpileup\n",
        "Let's unzip the chromozome file and call some variants."
      ],
      "metadata": {
        "id": "rajCIt1Tv6dC"
      }
    },
    {
      "cell_type": "code",
      "source": [
        "! gunzip chr11.fa.gz"
      ],
      "metadata": {
        "id": "zmOVo2iZ4yY9"
      },
      "execution_count": null,
      "outputs": []
    },
    {
      "cell_type": "code",
      "source": [
        "#In the practical you first ran samtools - like the terminal you will have to enter a q to quit viewing the file. Samtools isn't much use for this task.\n",
        "!samtools mpileup -f chr11.fa NA19239.bam | less -S\n",
        "!samtools mpileup -f chr11.fa NA19238.bam | less -S\n",
        "!samtools mpileup -f chr11.fa NA19240.bam | less -S\n"
      ],
      "metadata": {
        "id": "V6Fmrp8y4FMG"
      },
      "execution_count": null,
      "outputs": []
    },
    {
      "cell_type": "markdown",
      "source": [
        "#Part 2: Variant Calling for a Trio\n",
        "##Single-sample variant calling for each member of the trio\n",
        "Instead of samtools in the practical we used bcftools mpileup and bcftools call:"
      ],
      "metadata": {
        "id": "5_gzawPJwG5T"
      }
    },
    {
      "cell_type": "code",
      "source": [
        "!bcftools mpileup -f chr11.fa NA19239.bam | bcftools call -m -Oz -o FATHER.vcf.gz\n",
        "!bcftools mpileup -f chr11.fa NA19238.bam | bcftools call -m -Oz -o MOTHER.vcf.gz\n",
        "!bcftools mpileup -f chr11.fa NA19240.bam | bcftools call -m -Oz -o CHILD.vcf.gz\n"
      ],
      "metadata": {
        "id": "pE8T73F45Y30"
      },
      "execution_count": null,
      "outputs": []
    },
    {
      "cell_type": "markdown",
      "source": [
        "##Multi-sample variant calling\n",
        "To analyze inheritance patterns it is more useful if we call variants jointly for the trio. Check the order of the trio!"
      ],
      "metadata": {
        "id": "P9QX3Z8IwMlP"
      }
    },
    {
      "cell_type": "code",
      "source": [
        "!bcftools mpileup -Ou -f chr11.fa NA19239.bam NA19238.bam NA19240.bam | bcftools call -mv -Oz -o TRIO.vcf.gz\n"
      ],
      "metadata": {
        "id": "lWiln-X3wO0T"
      },
      "execution_count": null,
      "outputs": []
    },
    {
      "cell_type": "markdown",
      "source": [
        "#Part 3: Identifying Mendelian Violations and De Novo Variants\n",
        "##Extract de novo variants\n",
        "Use bcftools to filter potential de novo mutations:"
      ],
      "metadata": {
        "id": "w2tXdMe4wgK2"
      }
    },
    {
      "cell_type": "code",
      "source": [
        "!bcftools view -i 'GT[2]=\"0/1\" && GT[0]=\"0/0\" && GT[1]=\"0/0\"' TRIO.vcf.gz -Oz -o DE_NOVO.vcf.gz\n"
      ],
      "metadata": {
        "id": "8RCGdkXUwj9z"
      },
      "execution_count": null,
      "outputs": []
    },
    {
      "cell_type": "markdown",
      "source": [
        "Q1: List positions and alleles of de novo mutations found in the child.\n",
        "Q2: What is the functional consequence of a specific de novo variant (use annotation tools in Part 5)?"
      ],
      "metadata": {
        "id": "NQq_tVA9wm-e"
      }
    },
    {
      "cell_type": "markdown",
      "source": [
        "##Filter for Mendelian consistent variants\n",
        "Identify variants inherited from both parents:"
      ],
      "metadata": {
        "id": "k_qzSRoJwpIi"
      }
    },
    {
      "cell_type": "code",
      "source": [
        "!bcftools view -i 'GT[2]=\"1/1\" && GT[0]=\"0/1\" && GT[1]=\"0/1\"' TRIO.vcf.gz -Oz -o INHERITED.vcf.gz\n"
      ],
      "metadata": {
        "id": "mcjCPspZwsuo"
      },
      "execution_count": null,
      "outputs": []
    },
    {
      "cell_type": "markdown",
      "source": [
        "If you want to view the vcf files, you can decompress it as follows:"
      ],
      "metadata": {
        "id": "LZlgFFaZjJXB"
      }
    },
    {
      "cell_type": "code",
      "source": [
        "!gunzip INHERITED.vcf.gz"
      ],
      "metadata": {
        "id": "NiRXG6wV6mge"
      },
      "execution_count": null,
      "outputs": []
    },
    {
      "cell_type": "markdown",
      "source": [
        "Identify variants where the child inherited an allele from a specific parent:"
      ],
      "metadata": {
        "id": "reNe-btdB9qj"
      }
    },
    {
      "cell_type": "code",
      "source": [
        "!bcftools view -i 'GT[0]=\"1/1\" && GT[2]=\"1/0\"' TRIO.vcf.gz -Oz -o PATERNAL_ONLY.vcf.gz\n",
        "!bcftools view -i 'GT[1]=\"1/1\" && GT[2]=\"0/1\"' TRIO.vcf.gz -Oz -o MATERNAL_ONLY.vcf.gz\n"
      ],
      "metadata": {
        "id": "vK4K5U4aBZhp"
      },
      "execution_count": null,
      "outputs": []
    },
    {
      "cell_type": "markdown",
      "source": [
        "#Part 4: Normalization and Annotation of Variants\n",
        "##Variant normalization\n",
        "Normalize the VCF for the trio:"
      ],
      "metadata": {
        "id": "GiMZ1IdWwxUO"
      }
    },
    {
      "cell_type": "code",
      "source": [
        "!bcftools norm -f chr11.fa -O z -o TRIO_NORMALIZED.vcf.gz TRIO.vcf.gz\n"
      ],
      "metadata": {
        "id": "y117bssZw0Rw"
      },
      "execution_count": null,
      "outputs": []
    },
    {
      "cell_type": "markdown",
      "source": [
        "##Annotate variants with rsIDs\n",
        "Annotate variants using dbSNP - remember, you can use VEP to annotate - you don't really need to do this step."
      ],
      "metadata": {
        "id": "Mhm_RBujw5rb"
      }
    },
    {
      "cell_type": "code",
      "source": [
        "#need to get the grch38 database\n",
        "!wget ftp://ftp.ncbi.nih.gov/snp/organisms/human_9606/VCF/common_all_20180418.vcf.gz"
      ],
      "metadata": {
        "id": "dLlb1ZYq7juo"
      },
      "execution_count": null,
      "outputs": []
    },
    {
      "cell_type": "code",
      "source": [
        "!tabix -p vcf TRIO_NORMALIZED.vcf.gz\n"
      ],
      "metadata": {
        "id": "4yl4yPBR8tjY"
      },
      "execution_count": null,
      "outputs": []
    },
    {
      "cell_type": "code",
      "source": [
        "!tabix -p vcf common_all_20180418.vcf.gz\n"
      ],
      "metadata": {
        "id": "rCj-SrRd9Jim"
      },
      "execution_count": null,
      "outputs": []
    },
    {
      "cell_type": "code",
      "source": [
        "!bcftools annotate -c ID -a common_all_20180418.vcf.gz -o TRIO_ANNOTATED.vcf.gz -O z TRIO_NORMALIZED.vcf.gz\n"
      ],
      "metadata": {
        "id": "bp1HQ21pw9vk"
      },
      "execution_count": null,
      "outputs": []
    },
    {
      "cell_type": "markdown",
      "source": [
        "Annotate functional impact of variants:"
      ],
      "metadata": {
        "id": "koVZ65tuDmkd"
      }
    },
    {
      "cell_type": "code",
      "source": [
        "!bcftools csq -f chr11.fa -g gene_annotation.gff3.gz -Oz -o TRIO_ANNOTATED.vcf.gz TRIO.vcf.gz\n"
      ],
      "metadata": {
        "id": "4wWwy-PuDh-x"
      },
      "execution_count": null,
      "outputs": []
    },
    {
      "cell_type": "markdown",
      "source": [
        "#Part 5: Assessing and Filtering Variant Quality\n",
        "##Calculate statistics\n",
        "Assess the quality of called variants for the trio:"
      ],
      "metadata": {
        "id": "1l9b15qZxDrM"
      }
    },
    {
      "cell_type": "markdown",
      "source": [
        "The bcftools stats commands will not work if you try running them now. This is because the machine your notebook is running on needs some extra programmes to allow it to make plots. You can run them with the following code: (note it will take a couple of minutes to instal)"
      ],
      "metadata": {
        "id": "s50M-k4Ajg0Z"
      }
    },
    {
      "cell_type": "code",
      "source": [
        "!apt install texlive-latex-base texlive-fonts-recommended texlive-fonts-extra texlive-latex-recommended\n"
      ],
      "metadata": {
        "id": "VFeetmLbG7JU"
      },
      "execution_count": null,
      "outputs": []
    },
    {
      "cell_type": "code",
      "source": [
        "!bcftools stats TRIO_NORMALIZED.vcf.gz > TRIO_NORMALIZED.chk\n",
        "!plot-vcfstats TRIO_NORMALIZED.chk -p trio_stats\n"
      ],
      "metadata": {
        "id": "oXbh-jTgxILm"
      },
      "execution_count": null,
      "outputs": []
    },
    {
      "cell_type": "markdown",
      "source": [
        "##Filter variants\n",
        "We’ve seen that we can use the TS/TV ratio as a proxy for overall variant quality.\n",
        "Here we’ll experiment with filtering to improve the overall TS/TV ratio. You can use the\n",
        "following command to filter the variants, calculate the statistics and retrieve the TS/TV\n",
        "statistics all in one go."
      ],
      "metadata": {
        "id": "CmJ2FIx6xN41"
      }
    },
    {
      "cell_type": "code",
      "source": [
        "!bcftools view -i \"QUAL>=50\" TRIO_NORMALIZED.vcf.gz | bcftools stats - | grep TSTV | cut -f 5"
      ],
      "metadata": {
        "id": "k95DJKVXHT1k"
      },
      "execution_count": null,
      "outputs": []
    },
    {
      "cell_type": "markdown",
      "source": [
        "A very useful command is bcftools filter which allows to \"soft filter\" the VCF: it can annotate\n",
        "the FILTER column to indicate sites which fail. Apply the filters discussed above (or use\n",
        "QUAL>=50 && DP<200) to produce a final call set:"
      ],
      "metadata": {
        "id": "V5Jl6BZVHuOd"
      }
    },
    {
      "cell_type": "code",
      "source": [
        "!bcftools filter -i 'QUAL>=50 && DP<200' -s HighQual TRIO_NORMALIZED.vcf.gz -Oz -o TRIO_FILTERED.vcf.gz\n"
      ],
      "metadata": {
        "id": "CebDHeZwxRF0"
      },
      "execution_count": null,
      "outputs": []
    },
    {
      "cell_type": "markdown",
      "source": [
        "#Part 6: Visualization in IGV\n",
        "Either download the IGV browser or use the web app!\n"
      ],
      "metadata": {
        "id": "q82tEJnjxapk"
      }
    },
    {
      "cell_type": "markdown",
      "source": [
        "#Part 7: Investigating Variants of Interest\n",
        "##Detect Mendelian Inheritance Patterns\n",
        "Bcftools can directly identify inheritance patterns across trios. You can use the bcftools +mendelian plugin, which flags variants based on Mendelian inheritance rules."
      ],
      "metadata": {
        "id": "7cdQruAs_8sT"
      }
    },
    {
      "cell_type": "code",
      "source": [
        "!bcftools +mendelian TRIO_FILTERED.vcf.gz --trio NA19239,NA19238,NA19240 --output mendelian_violations.txt\n"
      ],
      "metadata": {
        "id": "8p811FAi_c0f"
      },
      "execution_count": null,
      "outputs": []
    },
    {
      "cell_type": "markdown",
      "source": [
        "We can also add aflag to the INFO field, This will populate a subfield called MERR where 1 indicates violation of Mendelian inheritance."
      ],
      "metadata": {
        "id": "SH14s3vbM4Sf"
      }
    },
    {
      "cell_type": "code",
      "source": [
        "!bcftools +mendelian TRIO_FILTERED.vcf.gz --trio NA19239,NA19238,NA19240 -m a -o annotated_trio.vcf"
      ],
      "metadata": {
        "id": "R6RyCbHoIyYS"
      },
      "execution_count": null,
      "outputs": []
    }
  ]
}
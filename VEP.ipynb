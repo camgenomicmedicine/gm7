{
  "nbformat": 4,
  "nbformat_minor": 0,
  "metadata": {
    "colab": {
      "name": "VEP.ipynb",
      "provenance": [],
      "collapsed_sections": [],
      "authorship_tag": "ABX9TyPfdoHxN0hBlDuCjMLsFytf",
      "include_colab_link": true
    },
    "kernelspec": {
      "name": "python3",
      "display_name": "Python 3"
    },
    "language_info": {
      "name": "python"
    }
  },
  "cells": [
    {
      "cell_type": "markdown",
      "metadata": {
        "id": "view-in-github",
        "colab_type": "text"
      },
      "source": [
        "<a href=\"https://colab.research.google.com/github/camgenomicmedicine/gm7/blob/main/VEP.ipynb\" target=\"_parent\"><img src=\"https://colab.research.google.com/assets/colab-badge.svg\" alt=\"Open In Colab\"/></a>"
      ]
    },
    {
      "cell_type": "markdown",
      "source": [
        "# Running VEP on Google Colab\n",
        "This notebook installs all the necessary libraries and software to run VEP on the commandline."
      ],
      "metadata": {
        "id": "nKXmCoNrM9u1"
      }
    },
    {
      "cell_type": "code",
      "execution_count": 1,
      "metadata": {
        "cellView": "form",
        "id": "ce0JG1-Eh8PZ"
      },
      "outputs": [],
      "source": [
        "#@title Download VEP\n",
        "%%capture\n",
        "%%! \n",
        "git clone https://github.com/Ensembl/ensembl-vep.git"
      ]
    },
    {
      "cell_type": "code",
      "source": [
        "#@title Install required perl libraries to make perl work\n",
        "%%capture\n",
        "%%!\n",
        "apt-get install cpanminus\n"
      ],
      "metadata": {
        "cellView": "form",
        "id": "SprSKXZujvIi"
      },
      "execution_count": 2,
      "outputs": []
    },
    {
      "cell_type": "code",
      "source": [
        "#@title Install required perl libraries to make VEP work\n",
        "%%capture\n",
        "! cpanm DBI\n",
        "! cpanm Archive::Zip\n",
        "! cpanm DBD::mysql\n",
        "! cpanm Module::Build\n",
        "! cpanm Set::IntervalTree\n",
        "! cpanm JSON\n",
        "! cpanm PerlIO::gzip\n",
        "! cpanm Bio::DB::BigBed\n",
        "! cpanm Test::Warnings\n",
        "! cpanm Try::Tiny"
      ],
      "metadata": {
        "cellView": "form",
        "id": "T3T47v_omh8T"
      },
      "execution_count": 3,
      "outputs": []
    },
    {
      "cell_type": "code",
      "source": [
        "#@title Install VEP\n",
        "%%!\n",
        "cd ensembl-vep\n",
        "perl INSTALL.pl -a acf -s homo_sapiens -y GRCh38"
      ],
      "metadata": {
        "cellView": "form",
        "id": "YPou_lMp2bWX"
      },
      "execution_count": null,
      "outputs": []
    },
    {
      "cell_type": "markdown",
      "source": [
        "Now you can use VEP! "
      ],
      "metadata": {
        "id": "a2yC6tfFM00k"
      }
    },
    {
      "cell_type": "code",
      "source": [
        "%%!\n",
        "cd ensembl-vep\n",
        "./vep -i examples/homo_sapiens_GRCh38.vcf --cache"
      ],
      "metadata": {
        "id": "Xkmtd83glv3T",
        "colab": {
          "base_uri": "https://localhost:8080/"
        },
        "outputId": "dbf86bc2-e526-438b-e29e-498dfc23e43e"
      },
      "execution_count": 5,
      "outputs": [
        {
          "output_type": "execute_result",
          "data": {
            "text/plain": [
              "[]"
            ]
          },
          "metadata": {},
          "execution_count": 5
        }
      ]
    }
  ]
}